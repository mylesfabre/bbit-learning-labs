{
 "cells": [
  {
   "cell_type": "markdown",
   "metadata": {},
   "source": [
    "```python\n",
    "# Copyright 2022 Bloomberg Finance L.P.\n",
    "#\n",
    "# Licensed under the Apache License, Version 2.0 (the \"License\");\n",
    "# you may not use this file except in compliance with the License.\n",
    "# You may obtain a copy of the License at\n",
    "#\n",
    "#     http://www.apache.org/licenses/LICENSE-2.0\n",
    "#\n",
    "# Unless required by applicable law or agreed to in writing, software\n",
    "# distributed under the License is distributed on an \"AS IS\" BASIS,\n",
    "# WITHOUT WARRANTIES OR CONDITIONS OF ANY KIND, either express or implied.\n",
    "# See the License for the specific language governing permissions and\n",
    "# limitations under the License.\n",
    "```\n",
    "\n",
    "# Graphing & BQPlot\n",
    "\n",
    "### Problem Definition\n",
    "\n",
    "Now, with a few tools at our disposal from our Python classes, let's introduce a visual component! We'll be using bqplot, a graphical library for creating interactive GUIs that Bloomberg created and published as open source. We'll cover the basics here, but you can find a more extensive tutorial at https://github.com/bqplot/bqplot! Using bqplot, we'd like to have the ability to plot the market value of our various entities over time. To handle this for now, we'll set up a simple loop which queries the market value (MV) of our entities. To start off, try plotting the market value of a single security in bqplot. The final goal of your plot should be the ability to graph the changes in your portfolio's market value over time. We can create a set of functions that generate data and interface with bqplot for reuse. \n",
    "\n",
    "***Plotter***\n",
    "- Create a method or class to plot the market value of a set of securities over time.\n",
    "    - Your class or method should take variables for the amount of data to be generated (i.e., give me a collection of security values of X size)\n",
    "    - Your graph output should have intractable data points. Clicking on a data point should print/log a string for that data point (i.e., Security X was valued at Y during Z)\n",
    "\n",
    "### Provided Tools\n",
    "\n",
    "#### *Data Source*\n",
    "\n",
    "For this portion, no additional data sources are given. You should modify your existing classes to allow for the desired functionality.\n",
    "\n",
    "#### *Solution Interface*\n",
    "\n",
    "For this portion no additional interfaces are given. Your plotter solution should create a graph of a given security's market value over time.\n",
    "\n",
    "#### *Testing*\n",
    "\n",
    "For testing, you can update your position, account, and portfolio modules from the previous sessions.\n",
    "\n",
    "### Stretch Goals\n",
    "\n",
    "If you've completed graphing your portfolio's market value over time, you can attempt to create a set of plotting solutions that allow for the graphs of positions, accounts, and portfolios over time. Some of the suggested stretch goals are the following:\n",
    "\n",
    "- Create a method or class to plot the market value of a set of positions over time. Your solution show allow for drilling down into a particular position & seeing the position's security value over time.\n",
    "- Create a method or class to plot the market value of a set of accounts/portfolio over time. Your solution show allow for drilling down into a particular account and seeing the account's position MVs over time."
   ]
  },
  {
   "cell_type": "code",
   "execution_count": 1,
   "metadata": {},
   "outputs": [
    {
     "name": "stdout",
     "output_type": "stream",
     "text": [
      "Collecting package metadata (current_repodata.json): done\n",
      "Solving environment: done\n",
      "\n",
      "## Package Plan ##\n",
      "\n",
      "  environment location: /opt/conda\n",
      "\n",
      "  added / updated specs:\n",
      "    - bqplot\n",
      "\n",
      "\n",
      "The following packages will be downloaded:\n",
      "\n",
      "    package                    |            build\n",
      "    ---------------------------|-----------------\n",
      "    bqplot-0.12.36             |     pyhd8ed1ab_0         1.0 MB  conda-forge\n",
      "    traittypes-0.2.1           |     pyh9f0ad1d_2          10 KB  conda-forge\n",
      "    ------------------------------------------------------------\n",
      "                                           Total:         1.0 MB\n",
      "\n",
      "The following NEW packages will be INSTALLED:\n",
      "\n",
      "  bqplot             conda-forge/noarch::bqplot-0.12.36-pyhd8ed1ab_0 None\n",
      "  traittypes         conda-forge/noarch::traittypes-0.2.1-pyh9f0ad1d_2 None\n",
      "\n",
      "\n",
      "\n",
      "Downloading and Extracting Packages\n",
      "bqplot-0.12.36       | 1.0 MB    | ##################################### | 100% \n",
      "traittypes-0.2.1     | 10 KB     | ##################################### | 100% \n",
      "Preparing transaction: done\n",
      "Verifying transaction: done\n",
      "Executing transaction: done\n",
      "Retrieving notices: ...working... done\n",
      "\n",
      "Note: you may need to restart the kernel to use updated packages.\n"
     ]
    }
   ],
   "source": [
    "#%pip install bqplot\n",
    "%conda install bqplot\n",
    "from bqplot import *"
   ]
  },
  {
   "cell_type": "code",
   "execution_count": 18,
   "metadata": {},
   "outputs": [
    {
     "data": {
      "application/vnd.jupyter.widget-view+json": {
       "model_id": "38596f286a844e42ac97800cea5b8267",
       "version_major": 2,
       "version_minor": 0
      },
      "text/plain": [
       "Figure(axes=[Axis(scale=LinearScale()), Axis(orientation='vertical', scale=LinearScale(), tick_format='0.2f')]…"
      ]
     },
     "execution_count": 18,
     "metadata": {},
     "output_type": "execute_result"
    }
   ],
   "source": [
    "#This is an example of creating a simple line graph using bqplot. To start off we can generate data. Bqplot can take a pair of lists to generate a plot\n",
    "import os\n",
    "import sys\n",
    "module_path = os.path.abspath('..')\n",
    "if module_path not in sys.path:\n",
    "    sys.path.append(module_path)\n",
    "\n",
    "import random\n",
    "\n",
    "y_data = random.sample(range(10, 100), 20)\n",
    "x_data = [x for x in range(0, 20)]\n",
    "\n",
    "x_sc = LinearScale()\n",
    "y_sc = LinearScale()\n",
    "\n",
    "scatter_chart = Scatter(x=x_data, y=y_data, scales= {'x': x_sc, 'y': y_sc}, colors=['dodgerblue'],\n",
    "                        interactions={'click': 'select'},\n",
    "                        selected_style={'opacity': 1.0, 'fill': 'DarkOrange', 'stroke': 'Red'},\n",
    "                        unselected_style={'opacity': 0.5})\n",
    "\n",
    "ax_x = Axis(scale=x_sc)\n",
    "ax_y = Axis(scale=y_sc, orientation='vertical', tick_format='0.2f')\n",
    "\n",
    "Figure(marks=[scatter_chart], axes=[ax_x, ax_y])"
   ]
  },
  {
   "cell_type": "code",
   "execution_count": 19,
   "metadata": {},
   "outputs": [
    {
     "data": {
      "application/vnd.jupyter.widget-view+json": {
       "model_id": "81b61ce9ce4c4b6180736a0d2f6286c5",
       "version_major": 2,
       "version_minor": 0
      },
      "text/plain": [
       "Figure(axes=[Axis(scale=LinearScale(), side='bottom'), Axis(orientation='vertical', scale=LinearScale(), side=…"
      ]
     },
     "execution_count": 19,
     "metadata": {},
     "output_type": "execute_result"
    }
   ],
   "source": [
    "#In BQL on the same figure we can add multiple graphs. Let's add a line graph to the current scatter plot\n",
    "\n",
    "line = Lines(x=x_data, y=y_data, scales= {'x': x_sc, 'y': y_sc}, colors=['dodgerblue'])\n",
    "Figure(marks=[scatter_chart, line], axes=[ax_x, ax_y])"
   ]
  },
  {
   "cell_type": "code",
   "execution_count": 20,
   "metadata": {},
   "outputs": [
    {
     "data": {
      "application/vnd.jupyter.widget-view+json": {
       "model_id": "004d0f438a3940089cbb2ba24d44dc8c",
       "version_major": 2,
       "version_minor": 0
      },
      "text/plain": [
       "Figure(axes=[Axis(scale=LinearScale(), side='bottom'), Axis(orientation='vertical', scale=LinearScale(), side=…"
      ]
     },
     "execution_count": 20,
     "metadata": {},
     "output_type": "execute_result"
    }
   ],
   "source": [
    "#We can also add call back events to our graphs. Let's add an event to print the data points on our scatter graph\n",
    "def scatterCallBack(self, target):\n",
    "    print(target)\n",
    "    \n",
    "scatter_chart.on_element_click(scatterCallBack)\n",
    "Figure(marks=[scatter_chart, line], axes=[ax_x, ax_y])\n"
   ]
  },
  {
   "cell_type": "code",
   "execution_count": 24,
   "metadata": {},
   "outputs": [
    {
     "data": {
      "application/vnd.jupyter.widget-view+json": {
       "model_id": "e6bd8797b4b9403e841c57803cb0139a",
       "version_major": 2,
       "version_minor": 0
      },
      "text/plain": [
       "VBox(children=(Figure(animation_duration=1000, axes=[Axis(scale=LinearScale()), Axis(orientation='vertical', s…"
      ]
     },
     "metadata": {},
     "output_type": "display_data"
    }
   ],
   "source": [
    "#Create your own graphing setuping for displaying a security's market value over time.\n",
    "import os\n",
    "import sys\n",
    "modPat = os.path.abspath('..')\n",
    "if modPat not in sys.path:\n",
    "    sys.path.append(modPat)\n",
    "from bqplot import pyplot as pyplot\n",
    "from implementations.securitySolution import security\n",
    "\n",
    "def secVisual(secName, dataSize):\n",
    "    sec = security(secName)\n",
    "    marVal = {}\n",
    "    tracker = 0\n",
    "    while tracker < dataSize:\n",
    "        marVal[tracker] = sec.getCurrentMarketValue()\n",
    "        tracker += 1\n",
    "    xAxis = list(marVal.keys())\n",
    "    yAxis = list(marVal.values())\n",
    "    pyplot.figure(title=sec.getName(), animation_duration=1000)\n",
    "    pyplot.plot(xAxis, yAxis)\n",
    "    pyplot.show()\n",
    "    return pyplot\n",
    "pyplot = secVisual(\"AAPL US Equity\", 1000)\n"
   ]
  }
 ],
 "metadata": {
  "kernelspec": {
   "display_name": "Python 3.10.6 ('base')",
   "language": "python",
   "name": "python3"
  },
  "language_info": {
   "codemirror_mode": {
    "name": "ipython",
    "version": 3
   },
   "file_extension": ".py",
   "mimetype": "text/x-python",
   "name": "python",
   "nbconvert_exporter": "python",
   "pygments_lexer": "ipython3",
   "version": "3.10.6"
  },
  "orig_nbformat": 4,
  "vscode": {
   "interpreter": {
    "hash": "d4d1e4263499bec80672ea0156c357c1ee493ec2b1c70f0acce89fc37c4a6abe"
   }
  }
 },
 "nbformat": 4,
 "nbformat_minor": 2
}
